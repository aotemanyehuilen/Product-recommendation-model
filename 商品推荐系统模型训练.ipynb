{
 "cells": [
  {
   "cell_type": "code",
   "execution_count": 1,
   "id": "bcc73312",
   "metadata": {},
   "outputs": [
    {
     "name": "stderr",
     "output_type": "stream",
     "text": [
      "D:\\anaconda\\envs\\pytorch\\lib\\site-packages\\tqdm\\auto.py:22: TqdmWarning: IProgress not found. Please update jupyter and ipywidgets. See https://ipywidgets.readthedocs.io/en/stable/user_install.html\n",
      "  from .autonotebook import tqdm as notebook_tqdm\n"
     ]
    }
   ],
   "source": [
    "import os\n",
    "# from PIL import Image\n",
    "import numpy as np\n",
    "import torch\n",
    "from torch import nn\n",
    "from torch.nn.functional import interpolate\n",
    "from torch.utils.data import DataLoader, Dataset\n",
    "from torch import optim\n",
    "from torchvision import transforms\n",
    "from torchvision.models import vgg16\n",
    "from torch.utils.data import TensorDataset\n",
    "import matplotlib.pyplot as plt"
   ]
  },
  {
   "cell_type": "code",
   "execution_count": 3,
   "id": "002498d6",
   "metadata": {},
   "outputs": [
    {
     "data": {
      "text/plain": [
       "True"
      ]
     },
     "execution_count": 3,
     "metadata": {},
     "output_type": "execute_result"
    }
   ],
   "source": [
    "torch.cuda.is_available()"
   ]
  },
  {
   "cell_type": "markdown",
   "id": "00d5abe9",
   "metadata": {},
   "source": [
    "# 1.数据读取"
   ]
  },
  {
   "cell_type": "code",
   "execution_count": 4,
   "id": "a0acc55a",
   "metadata": {},
   "outputs": [],
   "source": [
    "import json\n",
    "# 读取json数据\n",
    "with open(r'd:\\data\\taobao_sum\\train.json', 'r') as f:\n",
    "    train = json.load(f)\n",
    "    f.close()\n",
    "with open(r'd:\\data\\taobao_sum\\test.json', 'r') as f:\n",
    "    test = json.load(f)\n",
    "    f.close()\n",
    "#获取train test\n",
    "train_x = list(train['train_x'])\n",
    "train_y = list(train['train_y'])\n",
    "test_x = list(test['test_x'])\n",
    "test_y = list(test['test_y'])"
   ]
  },
  {
   "cell_type": "markdown",
   "id": "6407d4eb",
   "metadata": {},
   "source": [
    "# 2.定义模型"
   ]
  },
  {
   "cell_type": "code",
   "execution_count": 5,
   "id": "ee8bafb1",
   "metadata": {},
   "outputs": [],
   "source": [
    "class My_model(nn.Module):\n",
    "    def __init__(self, num_classes=992):\n",
    "        super(My_model, self).__init__()\n",
    "        \n",
    "        # 分类层\n",
    "        self.classifier = nn.Sequential(\n",
    "            nn.Linear(in_features=3 * 991, out_features=4096),\n",
    "            nn.ReLU(),\n",
    "            nn.Dropout(0.5),\n",
    "            nn.Linear(in_features=4096, out_features=2048),\n",
    "            nn.ReLU(),\n",
    "            nn.Dropout(0.5),\n",
    "            nn.Linear(in_features=2048, out_features=1024),\n",
    "            nn.ReLU(),\n",
    "            nn.Dropout(0.5),\n",
    "            # 将输出改为输出的个数（991）\n",
    "            nn.Linear(in_features=1024, out_features=num_classes),\n",
    "        )\n",
    "\n",
    "\n",
    "    def forward(self, x):\n",
    "        x = x.cuda()\n",
    "        x = torch.flatten(x, 1)\n",
    "        result = self.classifier(x)\n",
    "        return result"
   ]
  },
  {
   "cell_type": "markdown",
   "id": "f341a556",
   "metadata": {},
   "source": [
    "# 3.模型训练"
   ]
  },
  {
   "cell_type": "code",
   "execution_count": 6,
   "id": "22afd328",
   "metadata": {},
   "outputs": [],
   "source": [
    "# 调整学习率\n",
    "loss_save = []\n",
    "flag = 0\n",
    "lr =0.08"
   ]
  },
  {
   "cell_type": "code",
   "execution_count": 7,
   "id": "ef21c9b6",
   "metadata": {},
   "outputs": [],
   "source": [
    "# 数据打包\n",
    "class MyDataset(Dataset):\n",
    "    # Initialize your data, download, etc.\n",
    "    def __init__(self, data, targets):\n",
    "        self.len = len(data)\n",
    "        self.data = data\n",
    "        self.targets = targets\n",
    "#         self.transforms = transforms\n",
    "    def __getitem__(self, index): # 根据索引返回数据和对应的标签\n",
    "        r_data = self.data[index]  # 相当于TransformDataset的操作\n",
    "        return r_data, self.targets[index]  # 相当于打包操作\n",
    "    def __len__(self):\n",
    "        return self.len"
   ]
  },
  {
   "cell_type": "code",
   "execution_count": 8,
   "id": "a3559650",
   "metadata": {},
   "outputs": [],
   "source": [
    "# 训练过程\n",
    "def train(x,y):\n",
    "    loss_train=[] # 存储每次loss\n",
    "    batch_size = 500 # 批量训练大小\n",
    "    model = My_model() # 创建模型\n",
    "    \n",
    "    # 定义优化器\n",
    "    optimizer = optim.SGD(params=model.parameters(), lr=lr)\n",
    "    \n",
    "    # 定义损失函数\n",
    "    loss_func = nn.CrossEntropyLoss() \n",
    "    \n",
    "    # 加载数据\n",
    "    x = torch.tensor(x) # 将数据转为Tensor类型\n",
    "    y = torch.tensor(y)\n",
    "\n",
    "    train_set = MyDataset(x, y)#封装数据x与标签y\n",
    "    train_loader = DataLoader(train_set, batch_size, shuffle=True)\n",
    "    print(len(train_loader))\n",
    "    # 训练2000次\n",
    "    for i in range(2000):\n",
    "        loss_temp = 0  # 临时变量用来存储损失值\n",
    "        for j, (batch_data, batch_label) in enumerate(train_loader):\n",
    "            #数据放入GPU中\n",
    "            batch_data, batch_label = batch_data.cuda(), batch_label.cuda()\n",
    "            # 没有GPU则CPU\n",
    "#             batch_data, batch_label = batch_data.cpu(), batch_label.cpu()\n",
    "            # 将模型放入GPU/cpu中            \n",
    "            device = torch.device(\"cuda:0\" if torch.cuda.is_available() else \"cpu\")\n",
    "            model.to(device)\n",
    "            # 梯度清零\n",
    "            optimizer.zero_grad()\n",
    "            # 模型训练\n",
    "            prediction = model(batch_data)\n",
    "            # 损失值\n",
    "            loss = loss_func(prediction, batch_label)\n",
    "            loss_temp += loss.item()\n",
    "            # 反向传播\n",
    "            loss.backward()\n",
    "            # 梯度更新\n",
    "            optimizer.step()\n",
    "\n",
    "        loss_train.append(loss_temp / len(train_loader))\n",
    "        if i%100 == 0:\n",
    "            print('[%d] loss: %.4f' % (i + 1, loss_temp / len(train_loader)))\n",
    "\n",
    "    # 模型保存\n",
    "    torch.save(model, 'myVGG16_4.pkl')\n",
    "    return loss_train"
   ]
  },
  {
   "cell_type": "code",
   "execution_count": 9,
   "id": "0084a5ba",
   "metadata": {},
   "outputs": [
    {
     "name": "stdout",
     "output_type": "stream",
     "text": [
      "27\n",
      "[1] loss: 8.1084\n",
      "[101] loss: 2.9635\n",
      "[201] loss: 2.3322\n",
      "[301] loss: 1.8068\n",
      "[401] loss: 1.5191\n",
      "[501] loss: 1.3923\n",
      "[601] loss: 1.2807\n",
      "[701] loss: 1.1955\n",
      "[801] loss: 1.1016\n",
      "[901] loss: 1.0635\n",
      "[1001] loss: 1.0320\n",
      "[1101] loss: 0.9879\n",
      "[1201] loss: 0.9769\n",
      "[1301] loss: 0.9457\n",
      "[1401] loss: 0.9378\n",
      "[1501] loss: 0.9313\n",
      "[1601] loss: 0.9202\n",
      "[1701] loss: 0.8644\n",
      "[1801] loss: 0.8865\n",
      "[1901] loss: 0.8842\n"
     ]
    }
   ],
   "source": [
    "loss = train(train_x,train_y)"
   ]
  },
  {
   "cell_type": "code",
   "execution_count": 10,
   "id": "dd632dfd",
   "metadata": {},
   "outputs": [
    {
     "data": {
      "image/png": "[encoded data removed]",
      "text/plain": [
       "<Figure size 720x432 with 1 Axes>"
      ]
     },
     "metadata": {
      "needs_background": "light"
     },
     "output_type": "display_data"
    }
   ],
   "source": [
    "fig, ax = plt.subplots(figsize=(10, 6))\n",
    "ax.plot(np.arange(2000),loss, 'r',label=\"lr=0.08\")\n",
    "ax.set_xlabel('epoch', fontsize=14)\n",
    "ax.set_ylabel('loss', rotation=0, fontsize=14)\n",
    "plt.legend(loc=\"upper right\")\n",
    "plt.show()"
   ]
  },
  {
   "cell_type": "markdown",
   "id": "bdd8c65d",
   "metadata": {},
   "source": [
    "# 4.模型测试和评估"
   ]
  },
  {
   "cell_type": "code",
   "execution_count": 23,
   "id": "940fb8da",
   "metadata": {},
   "outputs": [],
   "source": [
    "# 加载模型\n",
    "def load_pretrained():\n",
    "    path = './myVGG16_4.pkl'  # 需要改为自己的路径\n",
    "    model = torch.load(path)\n",
    "    return model"
   ]
  },
  {
   "cell_type": "code",
   "execution_count": 24,
   "id": "51b0460f",
   "metadata": {},
   "outputs": [],
   "source": [
    "#recall@k  模型评估\n",
    "def Evaluation_recall(pred,y,k):\n",
    "    correct = 0\n",
    "    #通过对预测值进行排序取每一维前K个 返回 值 和 对应下标\n",
    "    pred_vals, pred_indices = pred.topk(k=k, dim=1, largest=True, sorted=True)\n",
    "    pred_vals[pred_vals>0]=1\n",
    "\n",
    "    # 遍历 计算出预测正确样本\n",
    "    for i in range(len(pred_indices)): # 遍历取出每个用户\n",
    "        # 真实值正结果下标  赛选出大于0\n",
    "        label_indice = torch.nonzero(y[i])\n",
    "#         print('label_indice:',label_indice)\n",
    "        for j in range(k):\n",
    "            if (pred_indices[i][j] in label_indice) and pred_vals[i][j]==1:\n",
    "                correct = correct+1\n",
    "#                 print('i:',i,correct)\n",
    "                break\n",
    "            else:\n",
    "                correct = correct+0\n",
    "#     print(correct)\n",
    "    return correct"
   ]
  },
  {
   "cell_type": "code",
   "execution_count": 27,
   "id": "4b4a68a9",
   "metadata": {},
   "outputs": [],
   "source": [
    "# 用于存储不同k值下 \n",
    "recall_k=[]\n",
    "\n",
    "\n",
    "# 测试过程\n",
    "def test(x,y,k):\n",
    "    # 批量数目\n",
    "    batch_size = 200\n",
    "    recall_sum = 0\n",
    "    # 总共n条数据\n",
    "    n = len(y)\n",
    "    \n",
    "    # 加载模型\n",
    "    model = load_pretrained()\n",
    "\n",
    "    # 加载数据\n",
    "    x = torch.tensor(x) # 将数据转为Tensor类型\n",
    "    y = torch.tensor(y)\n",
    "    test_set = MyDataset(x, y)#封装数据x与标签y\n",
    "    test_loader = DataLoader(test_set, batch_size, shuffle=True)\n",
    "    \n",
    "    # 开始\n",
    "    for batch_data, batch_label in test_loader:\n",
    "        # 放入GPU中\n",
    "        batch_data, batch_label = batch_data.cuda(), batch_label.cuda()\n",
    "#         batch_data, batch_label = batch_data.cpu(), batch_label.cpu()\n",
    "        # 将模型放入GPU/cpu中\n",
    "        device = torch.device(\"cuda:0\" if torch.cuda.is_available() else \"cpu\")\n",
    "        model.to(device)\n",
    "        # 预测\n",
    "        prediction = model(batch_data)\n",
    "#         print(prediction)\n",
    "        # 存放在gpu中数据转到cpu中\n",
    "        prediction = prediction.cpu()\n",
    "        batch_label = batch_label.cpu()\n",
    "        # 对y值进行Softmax dim=1表示第二维\n",
    "        softmax = nn.Softmax(dim=1)\n",
    "        prediction = softmax(prediction)\n",
    "#         batch_label = softmax(batch_label)\n",
    "        \n",
    "        # 模型测试\n",
    "        recall = Evaluation_recall(prediction,batch_label,k)\n",
    "        recall_sum = recall_sum+recall\n",
    "    recall_k.append(100 * recall_sum/int(n))\n",
    "    print('recall@: %.2f %%' % (100 * recall_sum/int(n)))"
   ]
  },
  {
   "cell_type": "code",
   "execution_count": 28,
   "id": "d6fa8e73",
   "metadata": {},
   "outputs": [
    {
     "name": "stdout",
     "output_type": "stream",
     "text": [
      "recall@: 64.29 %\n"
     ]
    }
   ],
   "source": [
    "# recall@1 预测结果\n",
    "test(test_x,test_y,1)"
   ]
  },
  {
   "cell_type": "code",
   "execution_count": 29,
   "id": "5c25a7cf",
   "metadata": {},
   "outputs": [
    {
     "name": "stdout",
     "output_type": "stream",
     "text": [
      "recall@: 75.09 %\n"
     ]
    }
   ],
   "source": [
    "# recall@3 预测结果\n",
    "test(test_x,test_y,3)"
   ]
  },
  {
   "cell_type": "code",
   "execution_count": 30,
   "id": "04726560",
   "metadata": {},
   "outputs": [
    {
     "name": "stdout",
     "output_type": "stream",
     "text": [
      "recall@: 78.32 %\n"
     ]
    }
   ],
   "source": [
    "# recall@5 预测结果\n",
    "test(test_x,test_y,5)"
   ]
  },
  {
   "cell_type": "code",
   "execution_count": 31,
   "id": "fe62ae56",
   "metadata": {},
   "outputs": [
    {
     "name": "stdout",
     "output_type": "stream",
     "text": [
      "recall@: 80.08 %\n"
     ]
    }
   ],
   "source": [
    "# recall@7 预测结果\n",
    "test(test_x,test_y,7)"
   ]
  },
  {
   "cell_type": "code",
   "execution_count": 32,
   "id": "15de144c",
   "metadata": {},
   "outputs": [
    {
     "name": "stdout",
     "output_type": "stream",
     "text": [
      "recall@: 81.45 %\n"
     ]
    }
   ],
   "source": [
    "# recall@10预测结果\n",
    "test(test_x,test_y,10)"
   ]
  },
  {
   "cell_type": "code",
   "execution_count": 33,
   "id": "106e875e",
   "metadata": {},
   "outputs": [
    {
     "name": "stdout",
     "output_type": "stream",
     "text": [
      "recall@: 83.69 %\n"
     ]
    }
   ],
   "source": [
    "# recall@10预测结果\n",
    "test(test_x,test_y,15)"
   ]
  },
  {
   "cell_type": "markdown",
   "id": "0f00f5a8",
   "metadata": {},
   "source": [
    "# 5.模型预测"
   ]
  },
  {
   "cell_type": "code",
   "execution_count": 36,
   "id": "c1b73163",
   "metadata": {},
   "outputs": [],
   "source": [
    "# 数据预处理\n",
    "def preprocess(x):\n",
    "    x = torch.tensor(x) \n",
    "    #升维\n",
    "    x = x .unsqueeze(0)\n",
    "    return x"
   ]
  },
  {
   "cell_type": "code",
   "execution_count": 37,
   "id": "e75ddb4a",
   "metadata": {},
   "outputs": [],
   "source": [
    "# 对输出排序\n",
    "def recall(prediction,k):\n",
    "    #通过对预测值进行排序取每一维前K个 返回 值 和 对应下标\n",
    "    pred_vals, pred_indices = prediction.topk(k=k)\n",
    "#     print(pred_vals)\n",
    "    pred_vals = pred_vals.cpu().detach().numpy()\n",
    "    pred_indices = pred_indices.cpu().detach().numpy()\n",
    "    print('推荐%s个商品：' %k)\n",
    "    for i in range(k):\n",
    "        print(\"概率：%.2f%%,商品类型：%s\" % (100*pred_vals[0][i],pred_indices[0][i]))\n",
    "    return pred_vals,pred_indices"
   ]
  },
  {
   "cell_type": "code",
   "execution_count": 38,
   "id": "6384a1b6",
   "metadata": {},
   "outputs": [],
   "source": [
    "# 预测\n",
    "def predict(x,k):\n",
    "    # 加载模型\n",
    "    model = load_pretrained()\n",
    "    \n",
    "    device = torch.device(\"cuda:0\" if torch.cuda.is_available() else \"cpu\")\n",
    "    model.to(device)\n",
    "    \n",
    "    # 预测\n",
    "    prediction = model(x)\n",
    "#     print(prediction)\n",
    "    # 对y值进行Softmax dim=1表示第二维\n",
    "    softmax = nn.Softmax(dim=1)\n",
    "    prediction = softmax(prediction)\n",
    "#     print(prediction)\n",
    "    pred_vals,pred_indices = recall(prediction,k)\n",
    "    return pred_vals,pred_indices"
   ]
  },
  {
   "cell_type": "code",
   "execution_count": 39,
   "id": "b955d2c6",
   "metadata": {},
   "outputs": [
    {
     "name": "stdout",
     "output_type": "stream",
     "text": [
      "推荐10个商品：\n",
      "概率：79.93%,商品类型：991\n",
      "概率：7.84%,商品类型：321\n",
      "概率：3.14%,商品类型：282\n",
      "概率：1.60%,商品类型：379\n",
      "概率：1.46%,商品类型：54\n",
      "概率：0.67%,商品类型：213\n",
      "概率：0.66%,商品类型：314\n",
      "概率：0.53%,商品类型：61\n",
      "概率：0.43%,商品类型：233\n",
      "概率：0.39%,商品类型：240\n"
     ]
    },
    {
     "data": {
      "text/plain": [
       "(array([[0.79930586, 0.07842186, 0.03138198, 0.01600388, 0.01460835,\n",
       "         0.00671471, 0.00660806, 0.00526897, 0.00429458, 0.00391528]],\n",
       "       dtype=float32),\n",
       " array([[991, 321, 282, 379,  54, 213, 314,  61, 233, 240]], dtype=int64))"
      ]
     },
     "execution_count": 39,
     "metadata": {},
     "output_type": "execute_result"
    }
   ],
   "source": [
    "# 将数据预处理，构造特征\n",
    "k = 10\n",
    "x = test_x[20]\n",
    "x = preprocess(x) \n",
    "# 预测\n",
    "predict(x,k)"
   ]
  },
  {
   "cell_type": "code",
   "execution_count": 40,
   "id": "8b3e6e60",
   "metadata": {},
   "outputs": [
    {
     "data": {
      "text/plain": [
       "tensor([[991]])"
      ]
     },
     "execution_count": 40,
     "metadata": {},
     "output_type": "execute_result"
    }
   ],
   "source": [
    "# 真实值正结果下标\n",
    "label_indice = torch.nonzero(torch.tensor(test_y[20]))\n",
    "label_indice"
   ]
  },
  {
   "cell_type": "code",
   "execution_count": null,
   "id": "ab6ad725",
   "metadata": {},
   "outputs": [],
   "source": []
  }
 ],
 "metadata": {
  "kernelspec": {
   "display_name": "Python [conda env:pytorch]",
   "language": "python",
   "name": "conda-env-pytorch-py"
  },
  "language_info": {
   "codemirror_mode": {
    "name": "ipython",
    "version": 3
   },
   "file_extension": ".py",
   "mimetype": "text/x-python",
   "name": "python",
   "nbconvert_exporter": "python",
   "pygments_lexer": "ipython3",
   "version": "3.6.13"
  }
 },
 "nbformat": 4,
 "nbformat_minor": 5
}
